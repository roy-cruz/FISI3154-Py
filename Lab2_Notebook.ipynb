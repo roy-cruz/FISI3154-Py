{
 "cells": [
  {
   "cell_type": "markdown",
   "metadata": {},
   "source": [
    "# Lab 2 Notebook"
   ]
  },
  {
   "cell_type": "markdown",
   "metadata": {},
   "source": [
    "This notebook serves as an easy way to generate the required resistence vs. length graph in the Ohm Law lab experiment for the course FISI3154.\n",
    "\n",
    "---\n",
    "\n",
    "We begin by importing all libraries we will be using."
   ]
  },
  {
   "cell_type": "code",
   "execution_count": 10,
   "metadata": {},
   "outputs": [],
   "source": [
    "import matplotlib.pyplot as plt\n",
    "import pandas as pd\n",
    "import numpy as np\n",
    "\n",
    "plt.rcParams['text.usetex'] = True"
   ]
  },
  {
   "cell_type": "markdown",
   "metadata": {},
   "source": [
    "We now load the measured data into list variables and display them as a table."
   ]
  },
  {
   "cell_type": "code",
   "execution_count": null,
   "metadata": {},
   "outputs": [],
   "source": [
    "# Resistances\n",
    "Rs = [] # Ohms\n",
    "# Lengths\n",
    "Ls = [] # cm\n",
    "\n",
    "df = pd.DataFrame({\"Resistence (Ohm)\": Rs, \"Length (cm)\": Ls})\n",
    "\n",
    "df"
   ]
  },
  {
   "cell_type": "markdown",
   "metadata": {},
   "source": [
    "We perform a fit of polynomial fit of degree $n$. Given what we know of the relationship between $R$ and $L$, what is $n$?"
   ]
  },
  {
   "cell_type": "code",
   "execution_count": null,
   "metadata": {},
   "outputs": [],
   "source": [
    "n =     # <-- Put your value of n here.\n",
    "\n",
    "fit = np.polyfit(x = Ls, y = Rs, deg = n)\n",
    "\n",
    "print(fit)"
   ]
  },
  {
   "cell_type": "markdown",
   "metadata": {},
   "source": [
    "Calculating values from this fit in order to make a graph."
   ]
  },
  {
   "cell_type": "code",
   "execution_count": 13,
   "metadata": {},
   "outputs": [],
   "source": [
    "L_vals = np.linspace(0, 450, 50)\n",
    "R_vals = fit[0] * L_vals + fit[1]"
   ]
  },
  {
   "cell_type": "markdown",
   "metadata": {},
   "source": [
    "Plotting..."
   ]
  },
  {
   "cell_type": "code",
   "execution_count": null,
   "metadata": {},
   "outputs": [],
   "source": [
    "fig, ax = plt.subplots(dpi = 500)\n",
    "\n",
    "ax_theo = ax.plot(Ls, Rs, marker=\"o\")\n",
    "ax_exp = ax.plot(L_vals, R_vals)\n",
    "\n",
    "ax.set_xlabel(r'Length (cm)')\n",
    "ax.set_ylabel(r'Resistance ($\\Omega$)')\n",
    "ax.set_title(r'Resistance vs. Wire Length for $\\#30$ NS Wire')\n",
    "\n",
    "plt.show()\n"
   ]
  },
  {
   "cell_type": "code",
   "execution_count": null,
   "metadata": {},
   "outputs": [],
   "source": []
  }
 ],
 "metadata": {
  "kernelspec": {
   "display_name": "Python 3.9.13 ('FISI3154-env')",
   "language": "python",
   "name": "python3"
  },
  "language_info": {
   "codemirror_mode": {
    "name": "ipython",
    "version": 3
   },
   "file_extension": ".py",
   "mimetype": "text/x-python",
   "name": "python",
   "nbconvert_exporter": "python",
   "pygments_lexer": "ipython3",
   "version": "3.9.13"
  },
  "orig_nbformat": 4,
  "vscode": {
   "interpreter": {
    "hash": "bf95eead8fd1c48efa9cc88a9f4489346c95bfa5f2b0183828df779310585e95"
   }
  }
 },
 "nbformat": 4,
 "nbformat_minor": 2
}
