{
 "cells": [
  {
   "cell_type": "markdown",
   "metadata": {},
   "source": [
    "# Lab 2 Notebook"
   ]
  },
  {
   "cell_type": "markdown",
   "metadata": {},
   "source": [
    "This notebook serves as an easy way to generate the required resistence vs. length graph in the Ohm Law lab experiment for the course FISI3154.\n",
    "\n",
    "---\n",
    "\n",
    "We begin by importing all libraries we will be using."
   ]
  },
  {
   "cell_type": "code",
   "execution_count": 3,
   "metadata": {},
   "outputs": [],
   "source": [
    "import matplotlib.pyplot as plt\n",
    "import pandas as pd\n",
    "import numpy as np"
   ]
  },
  {
   "cell_type": "markdown",
   "metadata": {},
   "source": [
    "We now load the measured data into list variables and display them as a table."
   ]
  },
  {
   "cell_type": "code",
   "execution_count": null,
   "metadata": {},
   "outputs": [],
   "source": [
    "# Resistances\n",
    "Rs = [] # Ohms\n",
    "# Lengths\n",
    "Ls = [] # cm\n",
    "\n",
    "df = pd.DataFrame({\"Resistence (Ohm)\": Rs, \"Length (cm)\": Ls})\n",
    "\n",
    "df"
   ]
  },
  {
   "cell_type": "markdown",
   "metadata": {},
   "source": [
    "We perform a fit of polynomial fit of degree $n$. Given what we know of the relationship between $R$ and $L$, what is $n$?\n",
    "\n",
    "Note: fit will be a list with the first element being the first constant in the polynomial fit, the seconnd being the second contant in the polynomial fit, etc.\n",
    "Example: If $n = 3$, the polynomial fit would be\n",
    "$$\n",
    "    V(L) = a_3 L^3 + a_2 L^2 + a_1 L^1 + a_0\n",
    "$$\n",
    "and the variable fit would thus be: fit = [$a_3$, $a_2$, $a_1$, $a_0$]"
   ]
  },
  {
   "cell_type": "code",
   "execution_count": null,
   "metadata": {},
   "outputs": [],
   "source": [
    "n =     # <-- Put your value of n here.\n",
    "\n",
    "fit = np.polyfit(x = Ls, y = Rs, deg = n)\n",
    "\n",
    "print(fit)"
   ]
  },
  {
   "cell_type": "markdown",
   "metadata": {},
   "source": [
    "Calculating values from this fit in order to make a graph."
   ]
  },
  {
   "cell_type": "code",
   "execution_count": 6,
   "metadata": {},
   "outputs": [],
   "source": [
    "L_vals = np.linspace(0, 450, 50)\n",
    "R_vals = fit[0] * L_vals + fit[1]"
   ]
  },
  {
   "cell_type": "markdown",
   "metadata": {},
   "source": [
    "We now make the plot by running the block of code below."
   ]
  },
  {
   "cell_type": "code",
   "execution_count": null,
   "metadata": {},
   "outputs": [],
   "source": [
    "fig, ax = plt.subplots(dpi = 500)\n",
    "\n",
    "ax_theo = ax.plot(Ls, Rs, marker=\"o\", label='Polynomial fit of degree {}'.format(n))\n",
    "ax_exp = ax.plot(L_vals, R_vals, label='Experimental (slope = {})'.format(round(fit[0],4)))\n",
    "\n",
    "ax.set_xlabel('Length (cm)')\n",
    "ax.set_ylabel('Resistance (Ohms)')\n",
    "ax.set_title('Resistance vs. Wire Length for #30 NS Wire')\n",
    "ax.set_xlim(0, 450)\n",
    "ax.set_ylim(0, Rs[len(Rs)-1] + 10)\n",
    "ax.legend(loc='upper left')\n",
    "\n",
    "plt.show()\n"
   ]
  },
  {
   "cell_type": "code",
   "execution_count": null,
   "metadata": {},
   "outputs": [],
   "source": []
  }
 ],
 "metadata": {
  "kernelspec": {
   "display_name": "Python 3.9.13 ('FISI3154-env')",
   "language": "python",
   "name": "python3"
  },
  "language_info": {
   "codemirror_mode": {
    "name": "ipython",
    "version": 3
   },
   "file_extension": ".py",
   "mimetype": "text/x-python",
   "name": "python",
   "nbconvert_exporter": "python",
   "pygments_lexer": "ipython3",
   "version": "3.9.13"
  },
  "orig_nbformat": 4,
  "vscode": {
   "interpreter": {
    "hash": "bf95eead8fd1c48efa9cc88a9f4489346c95bfa5f2b0183828df779310585e95"
   }
  }
 },
 "nbformat": 4,
 "nbformat_minor": 2
}
