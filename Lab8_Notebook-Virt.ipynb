{
 "cells": [
  {
   "cell_type": "markdown",
   "metadata": {},
   "source": [
    "# Lab 8 Notebook\n",
    "\n",
    "\n",
    "\n",
    "---\n",
    "\n",
    "We begin by importing all libraries we will be using."
   ]
  },
  {
   "cell_type": "code",
   "execution_count": 2,
   "metadata": {},
   "outputs": [],
   "source": [
    "import matplotlib.pyplot as plt\n",
    "import pandas as pd\n",
    "import numpy as np\n",
    "\n",
    "plt.rcParams['text.usetex'] = True"
   ]
  },
  {
   "cell_type": "markdown",
   "metadata": {},
   "source": [
    "Having imported the neccessary libraries, we proceed to input the experimental data into the variables theta_i_data, theta_r_data and theta_R_data. Once the data is lists containing the data are created, numpy arrays are created for them which allows us to do array-wise operations such as np.sin, which applies the trigonometric function sin on all the elements."
   ]
  },
  {
   "cell_type": "code",
   "execution_count": null,
   "metadata": {},
   "outputs": [],
   "source": [
    "### Put your data here, in between the brackets and separated by comma ###\n",
    "\n",
    "theta_i_data = [0,10,20,30,40,50,60,70,80]\n",
    "theta_r_data = [0,10,20,30,40,50,60,70,80]\n",
    "theta_R_data = [0,7.5,14.8,22,28.9,35.1,40.5,44.8,47.7]\n",
    "\n",
    "###--------------------------------------------------------------------###\n",
    "\n",
    "theta_i = np.array(theta_i_data)\n",
    "theta_r = np.array(theta_r_data)\n",
    "theta_R = np.array(theta_R_data)\n",
    "\n",
    "sinti = np.sin(theta_i * np.pi/180)\n",
    "sintR = np.sin(theta_R * np.pi/180)\n",
    "\n",
    "df = pd.DataFrame({'Incident angle': theta_i,\n",
    "                'Reflected angle': theta_r,\n",
    "                'Refracted angle': theta_R,\n",
    "                'Sin of reflected angle': sintr,\n",
    "                'Sin of refracted angle': sintR})\n",
    "\n",
    "df\n"
   ]
  },
  {
   "cell_type": "markdown",
   "metadata": {},
   "source": [
    "We now create polinomial fits of of the reflection and refraction data. Mathematically,  what we are doing is finding some polynomial of degree $n$ like the one shown below\n",
    "$$\n",
    "    \\begin{align}\n",
    "        \\theta_r &= a_n \\theta_i^n + a_{n-1} \\theta_i^{n-1} + \\dots + a_1 \\theta_i + a_0\\\\\n",
    "        \\sin\\theta_r &= b_n (\\sin\\theta_R)^n + b_{n-1} (\\sin\\theta_R)^{n-1} + \\dots + b_1 \\sin\\theta_R + b_0\n",
    "    \\end{align}\n",
    "$$\n",
    "Compare these two equations to the law of reflection and Snell's law\n",
    "$$\n",
    "    \\begin{align}\n",
    "        \\theta_r &= \\theta_i\\\\\n",
    "        \\sin\\theta_r &= n_{\\text{water}} \\sin\\theta_R\n",
    "    \\end{align}\n",
    "$$\n",
    "Ideally, when we do the fit, what would should be the degree of the fits (i.e. what values should have $n$ have), and what would the values of the constants in the polynomials be?"
   ]
  },
  {
   "cell_type": "code",
   "execution_count": null,
   "metadata": {},
   "outputs": [],
   "source": [
    "### Put the degree of the polynomial fit into the variable n ###\n",
    "\n",
    "n = 1\n",
    "\n",
    "### ---------------------------------------------------------###\n",
    "\n",
    "reflec_fit = np.polyfit(x = theta_i, y = theta_r, deg = n)\n",
    "refrac_fit = np.polyfit(x = sintR, y = sintr, deg = n)\n",
    "\n",
    "reflec_fit_func = np.poly1d(reflec_fit)\n",
    "refrac_fit_func = np.poly1d(refrac_fit)\n",
    "\n",
    "print(\"Polynomial fit for reflection data (y = theta_r, x = theta_i):\\n y = {}\\n\".format(reflec_fit_func))\n",
    "print(\"Polynomial fit for refraction data (y = sin(theta_r), x = sin(theta_R)):\\n y = {}\\n\".format(refrac_fit_func))"
   ]
  },
  {
   "cell_type": "markdown",
   "metadata": {},
   "source": [
    "With the fits created, we proceed to plot them as well as the data we took."
   ]
  },
  {
   "cell_type": "code",
   "execution_count": null,
   "metadata": {},
   "outputs": [],
   "source": [
    "# Plotting reflection data\n",
    "\n",
    "fig, ax = plt.subplots(dpi = 100)\n",
    "\n",
    "ax_data = ax.plot(theta_i, theta_r, 's', marker='o', label=\"Refraction data\")\n",
    "x_s = np.arange(0, 80)\n",
    "ax_fit = ax.plot(x_s, reflec_fit_func(x_s), \n",
    "                label=r\"Fit: $\\theta_r = $ ({}) $\\theta_i$\".format(reflec_fit[0]))\n",
    "\n",
    "ax.set_ylabel(r\"$\\theta_r$\")\n",
    "ax.set_xlabel(r\"$\\theta_i$\")\n",
    "ax.set_title(r\"Reflection angle ($\\theta_r$) vs. Incidence angle ($\\theta_i$)\")\n",
    "ax.legend()"
   ]
  },
  {
   "cell_type": "code",
   "execution_count": null,
   "metadata": {},
   "outputs": [],
   "source": [
    "# Plotting refraction data\n",
    "\n",
    "fig, ax = plt.subplots(dpi = 100)\n",
    "\n",
    "ax_data = ax.plot(sintR, sinti, 's', marker='o', label=\"Refraction data\")\n",
    "x_s = np.arange(0, 0.8, 0.01)\n",
    "ax_fit = ax.plot(x_s, refrac_fit_func(x_s), \n",
    "                label=r\"Fit: $\\sin(\\theta_i) = $ ({}) $\\sin\\theta_R$\".format(np.round(refrac_fit[0],3)))\n",
    "\n",
    "ax.set_ylabel(r\"$\\sin\\theta_i$\")\n",
    "ax.set_xlabel(r\"$\\sin\\theta_R$\")\n",
    "ax.set_title(r\"Sine of incident angle ($\\sin\\theta_i$) vs Sine of refraction angle ($\\sin\\theta_R$)\")\n",
    "ax.legend()"
   ]
  }
 ],
 "metadata": {
  "kernelspec": {
   "display_name": "Python 3.9.13 ('FISI3154-env')",
   "language": "python",
   "name": "python3"
  },
  "language_info": {
   "codemirror_mode": {
    "name": "ipython",
    "version": 3
   },
   "file_extension": ".py",
   "mimetype": "text/x-python",
   "name": "python",
   "nbconvert_exporter": "python",
   "pygments_lexer": "ipython3",
   "version": "3.9.13"
  },
  "orig_nbformat": 4,
  "vscode": {
   "interpreter": {
    "hash": "bf95eead8fd1c48efa9cc88a9f4489346c95bfa5f2b0183828df779310585e95"
   }
  }
 },
 "nbformat": 4,
 "nbformat_minor": 2
}
