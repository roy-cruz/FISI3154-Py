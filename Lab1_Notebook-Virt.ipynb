{
 "cells": [
  {
   "cell_type": "markdown",
   "id": "2ba31fdd",
   "metadata": {},
   "source": [
    "# Lab 1 Notebook"
   ]
  },
  {
   "cell_type": "markdown",
   "id": "f8b865a8",
   "metadata": {},
   "source": [
    "This notebook serves as an easy way to generate the required graphs in the virtual version of the Equipotential & Electric Fields lab experiment for the course FISI3154.\n",
    "\n",
    "---\n",
    "\n",
    "We begin by importing the libraries we will be using in this analysis."
   ]
  },
  {
   "cell_type": "code",
   "execution_count": 2,
   "id": "40733fdb",
   "metadata": {},
   "outputs": [],
   "source": [
    "import matplotlib.pyplot as plt # Library used for graphing\n",
    "import pandas as pd # Will allow us to show data in a tabular fashion"
   ]
  },
  {
   "cell_type": "markdown",
   "id": "fdf095c9",
   "metadata": {},
   "source": [
    "We now load the measured data. This would usually be done by reading from a file (for example, a file with extension .csv), but for simplicity, we will simply be typing the data ourselves and storing them in two lists."
   ]
  },
  {
   "cell_type": "code",
   "execution_count": null,
   "id": "493e5b32",
   "metadata": {},
   "outputs": [],
   "source": [
    "# Distance (in meters)\n",
    "dist = [] # Type your data inside the square brakets, with each data point separated by a comma.\n",
    "# Electric potential (in V)\n",
    "elec_pot = []\n",
    "# Electric field magnitude (in V/m)\n",
    "elec_field = []\n",
    "\n",
    "df = pd.DataFrame({\"Distance (m)\":dist, \"Electric potential (V)\":elec_pot, \"Electric field magnitude (V/m)\": elec_field})\n",
    "df"
   ]
  },
  {
   "cell_type": "markdown",
   "id": "6238f3d9",
   "metadata": {},
   "source": [
    "With the data now loaded, we can proceed to make the required graphs. Starting with the graph for electric potential vs distance:"
   ]
  },
  {
   "cell_type": "code",
   "execution_count": null,
   "id": "65ce46b5",
   "metadata": {},
   "outputs": [],
   "source": [
    "fig, ax_pot = plt.subplots()\n",
    "\n",
    "ax_pot.plot(dist, elec_pot, marker=\"o\")\n",
    "\n",
    "ax_pot.set_xlabel(\"Distance (m)\")\n",
    "ax_pot.set_ylabel(\"Electric potential (V)\")\n",
    "ax_pot.set_title(\"Electric potential (V) vs. Distance from point charge (m)\")\n",
    "ax_pot.grid()\n",
    "\n",
    "plt.show()"
   ]
  },
  {
   "cell_type": "markdown",
   "id": "1ec966d9",
   "metadata": {},
   "source": [
    "Now graphing electric field magnitude vs distance:"
   ]
  },
  {
   "cell_type": "code",
   "execution_count": null,
   "id": "df5fd4a8",
   "metadata": {},
   "outputs": [],
   "source": [
    "fig, ax_field = plt.subplots()\n",
    "ax_field.plot(dist, elec_field, marker=\"o\")\n",
    "ax_field.set_xlabel(\"Distance (m)\")\n",
    "ax_field.set_ylabel(\"Electric field magnitude (V/m)\")\n",
    "ax_field.set_title(\"Electric field magnitude (V/m) vs. Distance from point charge (m)\")\n",
    "ax_field.grid()"
   ]
  },
  {
   "cell_type": "markdown",
   "id": "bf68ad81",
   "metadata": {},
   "source": []
  }
 ],
 "metadata": {
  "kernelspec": {
   "display_name": "Python 3.9.13 ('FISI3154-env')",
   "language": "python",
   "name": "python3"
  },
  "language_info": {
   "codemirror_mode": {
    "name": "ipython",
    "version": 3
   },
   "file_extension": ".py",
   "mimetype": "text/x-python",
   "name": "python",
   "nbconvert_exporter": "python",
   "pygments_lexer": "ipython3",
   "version": "3.9.13"
  },
  "vscode": {
   "interpreter": {
    "hash": "bf95eead8fd1c48efa9cc88a9f4489346c95bfa5f2b0183828df779310585e95"
   }
  }
 },
 "nbformat": 4,
 "nbformat_minor": 5
}
