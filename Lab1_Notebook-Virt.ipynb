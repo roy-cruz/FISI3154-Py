{
 "cells": [
  {
   "cell_type": "markdown",
   "id": "2ba31fdd",
   "metadata": {},
   "source": [
    "# Lab 1 Notebook"
   ]
  },
  {
   "cell_type": "markdown",
   "id": "f8b865a8",
   "metadata": {},
   "source": [
    "This notebook "
   ]
  },
  {
   "cell_type": "markdown",
   "id": "fa072bdc",
   "metadata": {},
   "source": []
  }
 ],
 "metadata": {
  "language_info": {
   "name": "python"
  }
 },
 "nbformat": 4,
 "nbformat_minor": 5
}
