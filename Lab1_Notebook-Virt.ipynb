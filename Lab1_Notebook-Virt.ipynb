{
 "cells": [
  {
   "cell_type": "markdown",
   "id": "b8320c3f",
   "metadata": {},
   "source": [
    "# Lab 1 Notebook"
   ]
  },
  {
   "cell_type": "markdown",
   "id": "285d2cf7",
   "metadata": {},
   "source": [
    "This notebook serves as an easy way to generate the required graphs in the virtual version of the Equipotential & Electric Fields lab experiment for the course FISI3154.\n",
    "\n",
    "---\n",
    "\n",
    "We begin by importing the libraries we will be using in this analysis."
   ]
  },
  {
   "cell_type": "code",
   "execution_count": 1,
   "id": "02ca3f56",
   "metadata": {},
   "outputs": [],
   "source": [
    "import matplotlib.pyplot as plt # Library used for graphing\n",
    "import pandas as pd # Will allow us to show data in a tabular fashion"
   ]
  },
  {
   "cell_type": "markdown",
   "id": "52e1c07b",
   "metadata": {},
   "source": [
    "We now load the measured data. This would usually be done by reading from a file (for example, a file with extension .csv), but for simplicity, we will simply be typing the data ourselves and storing them in two lists."
   ]
  },
  {
   "cell_type": "code",
   "execution_count": 2,
   "id": "636d27e1",
   "metadata": {},
   "outputs": [
    {
     "data": {
      "text/html": [
       "<div>\n",
       "<style scoped>\n",
       "    .dataframe tbody tr th:only-of-type {\n",
       "        vertical-align: middle;\n",
       "    }\n",
       "\n",
       "    .dataframe tbody tr th {\n",
       "        vertical-align: top;\n",
       "    }\n",
       "\n",
       "    .dataframe thead th {\n",
       "        text-align: right;\n",
       "    }\n",
       "</style>\n",
       "<table border=\"1\" class=\"dataframe\">\n",
       "  <thead>\n",
       "    <tr style=\"text-align: right;\">\n",
       "      <th></th>\n",
       "      <th>Distance (m)</th>\n",
       "      <th>Electric potential (V)</th>\n",
       "      <th>Electric field magnitude (V/m)</th>\n",
       "    </tr>\n",
       "  </thead>\n",
       "  <tbody>\n",
       "    <tr>\n",
       "      <th>0</th>\n",
       "      <td>1</td>\n",
       "      <td>2</td>\n",
       "      <td>12</td>\n",
       "    </tr>\n",
       "    <tr>\n",
       "      <th>1</th>\n",
       "      <td>2</td>\n",
       "      <td>4</td>\n",
       "      <td>13</td>\n",
       "    </tr>\n",
       "    <tr>\n",
       "      <th>2</th>\n",
       "      <td>3</td>\n",
       "      <td>6</td>\n",
       "      <td>14</td>\n",
       "    </tr>\n",
       "    <tr>\n",
       "      <th>3</th>\n",
       "      <td>4</td>\n",
       "      <td>8</td>\n",
       "      <td>15</td>\n",
       "    </tr>\n",
       "    <tr>\n",
       "      <th>4</th>\n",
       "      <td>5</td>\n",
       "      <td>10</td>\n",
       "      <td>16</td>\n",
       "    </tr>\n",
       "    <tr>\n",
       "      <th>5</th>\n",
       "      <td>6</td>\n",
       "      <td>12</td>\n",
       "      <td>17</td>\n",
       "    </tr>\n",
       "  </tbody>\n",
       "</table>\n",
       "</div>"
      ],
      "text/plain": [
       "   Distance (m)  Electric potential (V)  Electric field magnitude (V/m)\n",
       "0             1                       2                              12\n",
       "1             2                       4                              13\n",
       "2             3                       6                              14\n",
       "3             4                       8                              15\n",
       "4             5                      10                              16\n",
       "5             6                      12                              17"
      ]
     },
     "execution_count": 2,
     "metadata": {},
     "output_type": "execute_result"
    }
   ],
   "source": [
    "# Distance (in meters)\n",
    "dist = [1,2,3,4,5,6] # Type your data inside the square brakets, with each data point separated by a comma.\n",
    "# Electric potential (in V)\n",
    "elec_pot = [2,4,6,8,10,12]\n",
    "# Electric field magnitude (in V/m)\n",
    "elec_field = [12,13,14,15,16,17]\n",
    "\n",
    "df = pd.DataFrame({\"Distance (m)\":dist, \"Electric potential (V)\":elec_pot, \"Electric field magnitude (V/m)\": elec_field})\n",
    "df"
   ]
  },
  {
   "cell_type": "markdown",
   "id": "616443ad",
   "metadata": {},
   "source": [
    "With the data now loaded, we can proceed to make the required graphs. Starting with the graph for electric potential vs distance:"
   ]
  },
  {
   "cell_type": "code",
   "execution_count": null,
   "id": "b99a1d01",
   "metadata": {},
   "outputs": [],
   "source": [
    "fig, ax_pot = plt.subplots()\n",
    "\n",
    "ax_pot.plot(dist, elec_pot, marker=\"o\")\n",
    "\n",
    "ax_pot.set_xlabel(\"Distance (m)\")\n",
    "ax_pot.set_ylabel(\"Electric potential (V)\")\n",
    "ax_pot.set_title(\"Electric potential (V) vs. Distance from point charge (m)\")\n",
    "ax_pot.grid()\n",
    "\n",
    "plt.show()"
   ]
  },
  {
   "cell_type": "markdown",
   "id": "128fbf2b",
   "metadata": {},
   "source": [
    "Now graphing electric field magnitude vs distance:"
   ]
  },
  {
   "cell_type": "code",
   "execution_count": null,
   "id": "d4d3fed8",
   "metadata": {},
   "outputs": [],
   "source": [
    "fig, ax_field = plt.subplots()\n",
    "ax_field.plot(dist, elec_field, marker=\"o\")\n",
    "ax_field.set_xlabel(\"Distance (m)\")\n",
    "ax_field.set_ylabel(\"Electric field magnitude (V/m)\")\n",
    "ax_field.set_title(\"Electric field magnitude (V/m) vs. Distance from point charge (m)\")\n",
    "ax_field.grid()\n",
    "\n",
    "plt.show()"
   ]
  },
  {
   "cell_type": "markdown",
   "id": "0300760b",
   "metadata": {},
   "source": []
  }
 ],
 "metadata": {
  "kernelspec": {
   "display_name": "Python 3 (ipykernel)",
   "language": "python",
   "name": "python3"
  },
  "language_info": {
   "codemirror_mode": {
    "name": "ipython",
    "version": 3
   },
   "file_extension": ".py",
   "mimetype": "text/x-python",
   "name": "python",
   "nbconvert_exporter": "python",
   "pygments_lexer": "ipython3",
   "version": "3.9.10+"
  },
  "vscode": {
   "interpreter": {
    "hash": "bf95eead8fd1c48efa9cc88a9f4489346c95bfa5f2b0183828df779310585e95"
   }
  }
 },
 "nbformat": 4,
 "nbformat_minor": 5
}
